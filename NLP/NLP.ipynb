{
 "cells": [
  {
   "cell_type": "markdown",
   "id": "3e985809",
   "metadata": {},
   "source": [
    "# Создание базы данных"
   ]
  },
  {
   "cell_type": "code",
   "execution_count": 15,
   "id": "a898bd3b",
   "metadata": {},
   "outputs": [],
   "source": [
    "import requests\n",
    "from bs4 import BeautifulSoup\n",
    "import csv\n",
    "\n",
    "# Создаем файл CSV и записываем заголовки столбцов\n",
    "with open('hse_data_2022.csv', 'w', newline='', encoding='utf-8') as file:\n",
    "    writer = csv.writer(file)\n",
    "    writer.writerow([\"Название ВКР\", \"Студент\", \"Полученное образование\", \"Год\"])\n",
    "\n",
    "# Проходим по всем страницам\n",
    "for page in range(1, 118):\n",
    "    url = f\"https://scholar.google.ru/scholar?hl=en&as_sdt={page}&q=%D0%9F%D0%BE%D0%BB%D0%B8%D1%82%D0%BE%D0%BB%D0%BE%D0%B3%D0%B8%D1%8F+%5BPDF%5D&scisbd=1\"\n",
    "    response = requests.get(url)\n",
    "    soup = BeautifulSoup(response.text, 'html.parser')\n",
    "\n",
    "    # На каждой странице находим все выпускные работы\n",
    "    works = soup.find_all('li', class_='vkr-card vkr-list__item')\n",
    "\n",
    "    # Из каждой работы извлекаем необходимую информацию\n",
    "    for work in works:\n",
    "        title = work.find('a', class_='link').text.strip()\n",
    "        student = work.find_all('span', class_='vkr-card__value')[1].text.strip()\n",
    "        program = work.find('span', class_='vkr-card__value').text.strip()\n",
    "        year = work.find_all('span', class_='vkr-card__value')[-1].text.strip()\n",
    "\n",
    "        # Записываем информацию в файл CSV\n",
    "        with open('hse_data_2022.csv', 'a', newline='', encoding='utf-8') as file:\n",
    "            writer = csv.writer(file)\n",
    "            writer.writerow([title, student, program, year])\n",
    "            \n",
    "# Проделываем то же самое для ВКР 2023 года\n",
    "with open('hse_data_2023.csv', 'w', newline='', encoding='utf-8') as file:\n",
    "    writer = csv.writer(file)\n",
    "    writer.writerow([\"Название ВКР\", \"Студент\", \"Полученное образование\", \"Год\"])\n",
    "\n",
    "for page in range(1, 118): \n",
    "    url = f\"https://www.hse.ru/edu/vkr/?faculty=122842106&year=2023&page={page}\"\n",
    "    response = requests.get(url)\n",
    "    soup = BeautifulSoup(response.text, 'html.parser')\n",
    "\n",
    "    works = soup.find_all('li', class_='vkr-card vkr-list__item')\n",
    "\n",
    "    for work in works:\n",
    "        title = work.find('a', class_='link').text.strip()\n",
    "        program = work.find('span', class_='vkr-card__value').text.strip()\n",
    "        student = work.find_all('span', class_='vkr-card__value')[1].text.strip()\n",
    "        year = work.find_all('span', class_='vkr-card__value')[-1].text.strip()\n",
    "\n",
    "        with open('hse_data_2023.csv', 'a', newline='', encoding='utf-8') as file:\n",
    "            writer = csv.writer(file)\n",
    "            writer.writerow([title, student, program, year])"
   ]
  },
  {
   "cell_type": "code",
   "execution_count": 22,
   "id": "2bda2c87",
   "metadata": {},
   "outputs": [],
   "source": [
    "df1 = pd.read_csv('hse_data_2022.csv')\n",
    "df2 = pd.read_csv('hse_data_2023.csv')\n",
    "\n",
    "combined_df = pd.concat([df1, df2])\n",
    "combined_df = combined_df.drop(['Студент', 'Полученное образование', 'Год'], axis=1)\n",
    "\n",
    "combined_df.to_csv('hse_data_2022_2023_nlp.csv', index=False)"
   ]
  },
  {
   "cell_type": "markdown",
   "id": "6314ec69",
   "metadata": {},
   "source": [
    "# Применение YandexGPT"
   ]
  },
  {
   "cell_type": "code",
   "execution_count": 1,
   "id": "3e11b417",
   "metadata": {},
   "outputs": [],
   "source": [
    "import requests\n",
    "import json\n",
    "import time\n",
    "import pandas as pd\n",
    "from tqdm import tqdm\n",
    "\n",
    "def send_to_yandex_api(request_text):\n",
    "    # URL для Yandex API\n",
    "    url = 'https://llm.api.cloud.yandex.net/llm/v1alpha/instruct'\n",
    "    # API ключ (должен быть скрыт/защищён в реальных условиях)\n",
    "    api_key = \"Api-Key AQVNyVqBi-XoJ1cAo7VIxq6ztgXm3owqowtso5Qb\"\n",
    "    # Заголовки запроса\n",
    "    headers = {\n",
    "        \"Authorization\": api_key,\n",
    "    }\n",
    "    # Тело запроса в формате JSON\n",
    "    payload = {\n",
    "        \"model\": \"general\",\n",
    "        \"instruction_text\": \"Проанализируй следующие названия ВКР и выдели ключевые темы, указав, как часто они встречаются. Представь результаты в удобочитаемом формате.\",\n",
    "        \"request_text\": f\"{request_text}\",\n",
    "        \"generation_options\": {\n",
    "            \"max_tokens\": 10000,  \n",
    "            \"temperature\": 0.4\n",
    "        }\n",
    "    }\n",
    "    retries = 0\n",
    "    max_retries=3\n",
    "    while retries < max_retries:\n",
    "        try:\n",
    "            response = requests.post(url, headers=headers, json=payload)\n",
    "            if response.status_code == 200:\n",
    "                return response.json()\n",
    "            else:\n",
    "                return {'error': response.status_code, 'message': response.text}\n",
    "        except requests.exceptions.RequestException as e:\n",
    "            retries += 1\n",
    "            if retries < max_retries:\n",
    "                print(f\"Request failed, retrying... (Attempt {retries}/{max_retries})\")\n",
    "                time.sleep(5)\n",
    "            else:\n",
    "                return {'error': 'RequestException', 'message': str(e)}\n",
    "\n",
    "# Чтение CSV файла с запросами\n",
    "df = pd.read_csv('hse_data_2022_2023_nlp.csv')\n",
    "\n",
    "# Объединяем все названия ВКР в один большой текст для анализа\n",
    "all_titles = \" \".join(df['Название ВКР'].tolist())\n",
    "\n",
    "response = send_to_yandex_api(all_titles)\n",
    "if 'result' in response:\n",
    "    analyzed_topics = response['result']  # Получение анализа тем\n",
    "else:\n",
    "    analyzed_topics = response  # Сохранение ошибки, если таковая произошла\n",
    "\n",
    "# Сохранение результатов в JSON файл\n",
    "with open('analyzed_themes.json', 'w', encoding='utf-8') as file:\n",
    "    file.write(json.dumps({\"analyzed_topics\": analyzed_topics}, ensure_ascii=False))"
   ]
  },
  {
   "cell_type": "code",
   "execution_count": 2,
   "id": "c91974e5",
   "metadata": {},
   "outputs": [
    {
     "name": "stdout",
     "output_type": "stream",
     "text": [
      "{'Тема 0 (Государство и Управление)': 'разработка россии особенности программы роль выгорания компании сотрудников государственных государственного', 'Тема 1 (Общественное здоровье и Социальная политика)': 'россии анализ влияние идентичности социально 19 формирование факторы сравнительный covid', 'Тема 2 (Социальное поведение)': 'российской федерации роль россии примере людей поведения анализ фактор социальные', 'Тема 3 (Идентичность и Организационное развитие)': 'особенности анализ идентичности жизни влияние организации развития факторы восприятие россии', 'Тема 4 (Психоанализ и Поведенческие исследования)': 'примере аспекты психоаналитические исследование психоаналитическое роль организации психоаналитический влияния работе', 'Тема 5 (Психология и Организационное поведение)': 'психоаналитический взгляд примере факторы исследование влияние сотрудников психологические организации личности', 'Тема 6 (Гендер и Личностное развитие)': 'примере роль личности исследование женщин разработка анализ взаимодействия российских взаимосвязь', 'Тема 7 (Пандемия и Современное общество)': 'анализ россии влияние примере современной пандемии развития 19 covid российских', 'Тема 8 (Государственное управление и Социальная безопасность)': 'россии психоанализе развития социальных анализ подход стратегии государственной управления безопасности', 'Тема 9 (Политика и Психоанализ)': 'влияние анализ подход проблемы психоаналитический перспективы россии работы политики российских'}\n"
     ]
    }
   ],
   "source": [
    "with open('analyzed_themes.json', 'r', encoding='utf-8') as file:\n",
    "    data = json.load(file)\n",
    "print(data)"
   ]
  },
  {
   "cell_type": "markdown",
   "id": "072024e7",
   "metadata": {},
   "source": [
    "# Преобработка данных"
   ]
  },
  {
   "cell_type": "code",
   "execution_count": 38,
   "id": "618bcd6a",
   "metadata": {},
   "outputs": [],
   "source": [
    "import pandas as pd\n",
    "import re\n",
    "from nltk.corpus import stopwords\n",
    "from nltk.tokenize import word_tokenize\n",
    "import string\n",
    "\n",
    "# Чтение данных\n",
    "df = combined_df\n",
    "\n",
    "# Получение стандартного списка стоп-слов на русском языке и добавление новых слов\n",
    "russian_stopwords = stopwords.words('russian')\n",
    "extra_stopwords = ['россия', 'россии', 'российский', 'российской', 'федерации', 'российских', 'анализ']  # Список добавляемых стоп-слов\n",
    "russian_stopwords.extend(extra_stopwords)\n",
    "\n",
    "def preprocess_text(text):\n",
    "    text = text.lower()  # приведение к нижнему регистру\n",
    "    text = re.sub(r'\\d+', '', text)  # удаление цифр\n",
    "    text = re.sub(r'[«»]', '', text)  # удаление « и »\n",
    "    text = text.translate(str.maketrans('', '', string.punctuation))  # удаление пунктуации\n",
    "    tokens = word_tokenize(text)  # токенизация\n",
    "    tokens = [word for word in tokens if not word in russian_stopwords]  # удаление стоп-слов\n",
    "    return tokens\n",
    "\n",
    "# Применение предобработки к каждому тексту\n",
    "df['processed_text'] = df['Название ВКР'].apply(preprocess_text)\n"
   ]
  },
  {
   "cell_type": "markdown",
   "id": "061c2fba",
   "metadata": {},
   "source": [
    "# Подготовка данных для LDA и LSI"
   ]
  },
  {
   "cell_type": "code",
   "execution_count": 39,
   "id": "b9e15ed3",
   "metadata": {},
   "outputs": [],
   "source": [
    "from gensim import corpora, models\n",
    "\n",
    "# Подготовка данных для LSI и LDA\n",
    "dictionary = corpora.Dictionary(df['processed_text'])\n",
    "corpus = [dictionary.doc2bow(text) for text in df['processed_text']]"
   ]
  },
  {
   "cell_type": "markdown",
   "id": "adae92da",
   "metadata": {},
   "source": [
    "# LDA и LSI"
   ]
  },
  {
   "cell_type": "code",
   "execution_count": 40,
   "id": "7a9ebffb",
   "metadata": {},
   "outputs": [],
   "source": [
    "# LSI Model\n",
    "lsi_model = models.LsiModel(corpus, id2word=dictionary, num_topics=10)\n",
    "lsi_topics = lsi_model.print_topics(num_words=10)\n",
    "\n",
    "# LDA Model\n",
    "lda_model = models.LdaModel(corpus, id2word=dictionary, num_topics=10)\n",
    "lda_topics = lda_model.print_topics(num_words=10)"
   ]
  },
  {
   "cell_type": "code",
   "execution_count": 41,
   "id": "641ec696",
   "metadata": {},
   "outputs": [
    {
     "name": "stdout",
     "output_type": "stream",
     "text": [
      "Темы из модели LSI:\n",
      "Тема 1: примере, психоаналитический, взгляд, роль, влияние, личности, особенности, исследование, аспекты, организации\n",
      "Тема 2: психоаналитический, взгляд, примере, подход, роль, развитие, влияние, аспекты, особенности, личности\n",
      "Тема 3: влияние, примере, особенности, роль, факторы, развития, сотрудников, государственной, разработка, психоаналитический\n",
      "Тема 4: влияние, особенности, роль, разработка, факторы, сотрудников, примере, развития, организации, программы\n",
      "Тема 5: роль, особенности, личности, сотрудников, разработка, факторы, психоаналитический, развития, развитии, организации\n",
      "Тема 6: исследование, психоаналитическое, личности, примере, влияния, аспекты, лидера, работе, психоаналитические, влияние\n",
      "Тема 7: особенности, разработка, сотрудников, факторы, программы, тренинга, развития, организации, развитию, компании\n",
      "Тема 8: аспекты, психоаналитические, исследование, организации, работе, группах, психоаналитического, психоаналитическое, примере, динамики\n",
      "Тема 9: факторы, разработка, пандемии, covid, особенности, программы, сотрудников, влияние, тренинга, период\n",
      "Тема 10: политики, государственной, пандемии, covid, развития, условиях, сравнительный, проблемы, психоаналитические, аспекты\n"
     ]
    }
   ],
   "source": [
    "# Функция для красивого вывода тем LSI и LDA\n",
    "def print_topics(model, model_name):\n",
    "    print(f\"Темы из модели {model_name}:\")\n",
    "    for i, topic in enumerate(model.print_topics(num_words=5)):\n",
    "        words = ', '.join(word for word, prob in model.show_topic(i))\n",
    "        print(f\"Тема {i + 1}: {words}\")\n",
    "\n",
    "# Вывод тем из LSI\n",
    "print_topics(lsi_model, \"LSI\")"
   ]
  },
  {
   "cell_type": "code",
   "execution_count": 42,
   "id": "da49cf18",
   "metadata": {},
   "outputs": [
    {
     "name": "stdout",
     "output_type": "stream",
     "text": [
      "Темы из модели LDA:\n",
      "Тема 1: особенности, ценностей, разработка, примере, организации, уровне, коммуникации, проблемы, политической, внедрения\n",
      "Тема 2: примере, гг, взгляд, психоаналитический, восприятие, медицинских, пандемии, стратегии, сфере, региональной\n",
      "Тема 3: исследование, кризис, роль, социальных, современной, примере, подход, образа, гане, подростков\n",
      "Тема 4: психоаналитический, примере, подход, взгляд, влияние, коучингового, взаимосвязь, профессиональной, фильма, деятельности\n",
      "Тема 5: примере, практики, оценки, аспекты, психоаналитические, развития, специалистов, фактор, молодых, особенности\n",
      "Тема 6: особенности, психоаналитические, лидера, влияния, развития, фактор, государственной, аспекты, команду, связь\n",
      "Тема 7: факторы, примере, социальные, психологическое, представления, сотрудников, влияние, кризиса, сети, фактор\n",
      "Тема 8: влияние, особенности, отца, примере, феноменология, психоаналитически, коучинге, ориентированном, отсутствующего, фигура\n",
      "Тема 9: психоаналитический, взгляд, роль, формирования, влияние, помощи, медицинской, отношения, факторы, финансовых\n",
      "Тема 10: исследование, сотрудников, примере, факторы, программы, особенности, психоаналитическое, изменений, лидерства, аспекты\n"
     ]
    }
   ],
   "source": [
    "# Вывод тем из LDA\n",
    "print_topics(lda_model, \"LDA\")"
   ]
  },
  {
   "cell_type": "markdown",
   "id": "03c5141f",
   "metadata": {},
   "source": [
    "# ruBERT "
   ]
  },
  {
   "cell_type": "code",
   "execution_count": 44,
   "id": "ade86b55",
   "metadata": {},
   "outputs": [
    {
     "name": "stderr",
     "output_type": "stream",
     "text": [
      "Some weights of the model checkpoint at DeepPavlov/rubert-base-cased were not used when initializing BertModel: ['cls.predictions.decoder.bias', 'cls.seq_relationship.bias', 'cls.predictions.transform.LayerNorm.weight', 'cls.predictions.transform.LayerNorm.bias', 'cls.predictions.decoder.weight', 'cls.predictions.bias', 'cls.seq_relationship.weight', 'cls.predictions.transform.dense.weight', 'cls.predictions.transform.dense.bias']\n",
      "- This IS expected if you are initializing BertModel from the checkpoint of a model trained on another task or with another architecture (e.g. initializing a BertForSequenceClassification model from a BertForPreTraining model).\n",
      "- This IS NOT expected if you are initializing BertModel from the checkpoint of a model that you expect to be exactly identical (initializing a BertForSequenceClassification model from a BertForSequenceClassification model).\n",
      "Asking to truncate to max_length but no maximum length is provided and the model has no predefined maximum length. Default to no truncation.\n"
     ]
    },
    {
     "name": "stdout",
     "output_type": "stream",
     "text": [
      "Тема 1:\n",
      " - ['нормативные', 'представления', 'европейских', 'популистов', 'народе', 'дискурсе', 'региональных', 'национальных', 'наднациональных', 'предвыборных', 'кампаний']...\n",
      " - ['влияние', 'традиционной', 'идеологии', 'маскулиности', 'следование', 'правилам']...\n",
      " - ['политический', 'режим', 'фактор', 'эффективности', 'реакции', 'правительств', 'пандемию', 'covid']...\n",
      " - ['жилищный', 'портрет', 'москвы', 'динамика', 'жилой', 'застройки', 'её', 'влияние', 'образ', 'городских', 'районов']...\n",
      " - ['патронклиентские', 'отношения', 'силовых', 'элитах', 'постсоветских', 'трансформаций']...\n",
      "\n",
      "\n",
      "Тема 2:\n",
      " - ['психоаналитическая', 'семантика', 'смыслы', 'символы', 'структуры']...\n",
      " - ['нарциссизма', 'смерти', 'нарциссизму', 'жизни', 'примере', 'индивидуальных', 'случаев', 'психоаналитического', 'консультирования', 'коучинга']...\n",
      " - ['психоаналитическое', 'исследование', 'личности', 'ницше', 'влияния', 'идей', 'формирование', 'общественного', 'сознания']...\n",
      " - ['молчание', 'деперсонализация', 'психоаналитическом', 'процессе']...\n",
      " - ['социальные', 'представления', 'минимализме', 'дизайне', 'жилых', 'интерьеров']...\n",
      "\n",
      "\n",
      "Тема 3:\n",
      " - ['взаимосвязь', 'налогового', 'администрирования', 'администрирования', 'доходов', 'бюджетов', 'бюджетной', 'системы']...\n",
      " - ['методы', 'формы', 'организации', 'контроля', 'деятельностью', 'органов', 'государственного', 'управления']...\n",
      " - ['материальные', 'нематериальные', 'механизмы', 'стимулирования', 'труда', 'государственных', 'гражданских', 'служащих', 'работников', 'коммерческих', 'организаций']...\n",
      " - ['разработка', 'реализация', 'государственной', 'молодежной', 'политики', 'проблемы', 'перспективы']...\n",
      " - ['разработка', 'программы', 'коучинга', 'направленной', 'поддержку', 'изменений', 'жизни']...\n",
      "\n",
      "\n",
      "Тема 4:\n",
      " - ['формирование', 'профессионального', 'яобраза', 'рекрутера']...\n",
      " - ['психоанализ', 'вдохновения']...\n",
      " - ['проблемы', 'формирования', 'электронного', 'правительства']...\n",
      " - ['противодействие', 'домашнему', 'насилию', 'рубежом']...\n",
      " - ['взаимосвязь', 'религиозности', 'аутентичности', 'личности']...\n",
      "\n",
      "\n",
      "Тема 5:\n",
      " - ['мотивационные', 'факторы', 'личности', 'профессии', 'публичного', 'политика', 'примере', 'женщиныполитика']...\n",
      " - ['личностные', 'факторы', 'социальнопсихологического', 'капитала', 'сотрудников', 'бизнесорганизаций', 'неформальных', 'внеорганизационных', 'сообществах']...\n",
      " - ['формирование', 'восприятие', 'региональной', 'идентичности', 'жителями', 'городов', 'федерального', 'значения', 'период', 'гг']...\n",
      " - ['восприятие', 'концепции', 'русского', 'мира', 'сравнение', 'дискурсов', 'национальном', 'международном', 'уровне']...\n",
      " - ['психоаналитический', 'взгляд', 'влияние', 'образа', 'отца', 'развитие', 'женщин', 'предпринимателей', 'отношения', 'которые', 'выстраивают', 'внутри', 'коллектива', 'личной', 'жизни']...\n",
      "\n",
      "\n",
      "Тема 6:\n",
      " - ['эрос', 'танатос', 'кинематографических', 'мирах', 'вуди', 'аллена', 'психоаналитический', 'взгляд']...\n",
      " - ['практики', 'преодоления', 'стигматизации', 'женщин', 'itобразовании', 'пример', 'студенток', 'факультета', 'компьютерных', 'наук']...\n",
      " - ['действия', 'символизации', 'особенности', 'оральной', 'стадии', 'развития', 'психики']...\n",
      " - ['конфликт', 'женского', 'фаллического', 'современном', 'кинематографе']...\n",
      " - ['социальные', 'связи', 'онлайнсообществах', 'русскоязычных', 'фанатов', 'примере', 'фандома', 'произведениям', 'гарри', 'поттере']...\n",
      "\n",
      "\n",
      "Тема 7:\n",
      " - ['разработка', 'стратегии', 'продаж', 'инфобизнеса', 'социальных', 'сетях']...\n",
      " - ['психоаналитический', 'подход', 'анализу', 'слияния', 'поглощения', 'региональных', 'подразделений', 'международных', 'организаций']...\n",
      " - ['психоаналитические', 'аспекты', 'организационных', 'изменений', 'примере', 'коучинговой', 'работы', 'топкомандой']...\n",
      " - ['особенности', 'формирования', 'паттерны', 'коллективного', 'действия', 'оффлайн', 'онлайн', 'пространстве', 'сравнение', 'доступности', 'особенностей', 'коллективного', 'действия', 'примере', 'кооперативных', 'онлайнигр', 'политического', 'поведения']...\n",
      " - ['психодиагностические', 'возможности', 'русскоязычной', 'версии', 'шкалы', 'воспринимаемой', 'поддержки', 'автономии', 'родительского', 'контроля']...\n",
      "\n",
      "\n",
      "Тема 8:\n",
      " - ['организационная', 'приверженность', 'сотрудников', 'способы', 'её', 'поддержки']...\n",
      " - ['сепарация', 'женщин', 'родительской', 'семьи', 'стиль', 'воспитания', 'собственных', 'детей']...\n",
      " - ['роль', 'государственной', 'политики', 'отношении', 'ценностей', 'творческих', 'граждан', 'продвижения', 'творческих', 'культурных', 'индустрий', 'чему', 'гана', 'научиться', 'южной', 'кореи']...\n",
      " - ['социологический', 'рынков', 'культурного', 'производства', 'потребления', 'примере', 'исследования', 'аудитории', 'театров', 'г', 'москвы']...\n",
      " - ['депутатский', 'корпус', 'эффект', 'сплочения', 'роль', 'социальнопрофессиональных', 'характеристик', 'депутатов', 'государственной', 'думы', 'viii', 'созыва', 'законотворческом', 'процессе']...\n",
      "\n",
      "\n",
      "Тема 9:\n",
      " - ['взаимосвязь', 'загрязнения', 'воздуха', 'психического', 'здоровья', 'населения', 'германии', 'контексте', 'реализации', 'политики', 'устойчивого', 'развития']...\n",
      " - ['роль', 'личности', 'лидера', 'динамике', 'организационных', 'изменений', 'примере', 'финансового', 'сектора']...\n",
      " - ['влияние', 'участия', 'образовательных', 'чгп', 'финансовые', 'показатели', 'бизнеса', 'кейс']...\n",
      " - ['психологические', 'особенности', 'привлечения', 'клиентов', 'социальных', 'сетях', 'современных', 'условиях']...\n",
      " - ['индекс', 'эффективности', 'цифровизации', 'правительств', 'гг']...\n",
      "\n",
      "\n",
      "Тема 10:\n",
      " - ['родительские', 'приказания', 'элемент', 'трансгенерационной', 'передачи', 'семейного', 'опыта']...\n",
      " - ['фантомообразование', 'частный', 'случай', 'неудачи', 'работы', 'горевания']...\n",
      " - ['трудности', 'молодых', 'людей', 'романтических', 'отношениях', 'взаимоотношения', 'родителями', 'детстве']...\n",
      " - ['возможности', 'психоанализа', 'психологической', 'помощи', 'пациентам', 'mci', 'ранней', 'стадии', 'деменции']...\n",
      " - ['аутистические', 'транзакции', 'взаимодействии', 'детских', 'родительских', 'эгосостояний']...\n",
      "\n",
      "\n"
     ]
    }
   ],
   "source": [
    "import numpy as np\n",
    "from transformers import BertTokenizer, BertModel\n",
    "from sklearn.cluster import KMeans\n",
    "\n",
    "tokenizer = BertTokenizer.from_pretrained('DeepPavlov/rubert-base-cased')\n",
    "model = BertModel.from_pretrained('DeepPavlov/rubert-base-cased')\n",
    "\n",
    "def bert_embedding(text):\n",
    "    inputs = tokenizer(text, return_tensors=\"pt\", padding=True, truncation=True)\n",
    "    outputs = model(**inputs)\n",
    "    return outputs.last_hidden_state.mean(dim=1).detach().numpy()\n",
    "\n",
    "# Функция для преобразования всех текстов в BERT векторы\n",
    "def texts_to_bert_vectors(texts):\n",
    "    vectors = []\n",
    "    for text in texts:\n",
    "        vector = bert_embedding(' '.join(text))\n",
    "        vectors.append(vector[0])\n",
    "    return np.array(vectors)\n",
    "\n",
    "# Преобразование всех текстов в датасете\n",
    "bert_vectors = texts_to_bert_vectors(df['processed_text'])\n",
    "\n",
    "# Использование KMeans для кластеризации векторов\n",
    "kmeans = KMeans(n_clusters=10)  # предположим, что мы хотим извлечь 10 тем\n",
    "kmeans.fit(bert_vectors)\n",
    "\n",
    "# Получение и вывод основных тем\n",
    "for i in range(10):\n",
    "    cluster_indices = np.where(kmeans.labels_ == i)[0]\n",
    "    cluster_texts = df['processed_text'].iloc[cluster_indices]\n",
    "    print(f\"Тема {i + 1}:\")\n",
    "    for text in cluster_texts.sample(min(len(cluster_texts), 5)):  # Вывести несколько примеров из каждого кластера\n",
    "        print(f\" - {text[:100]}...\")  # Выводим начало текста для представления темы\n",
    "    print(\"\\n\")"
   ]
  },
  {
   "cell_type": "code",
   "execution_count": null,
   "id": "0a8c8fd5",
   "metadata": {},
   "outputs": [],
   "source": []
  }
 ],
 "metadata": {
  "kernelspec": {
   "display_name": "Python 3 (ipykernel)",
   "language": "python",
   "name": "python3"
  },
  "language_info": {
   "codemirror_mode": {
    "name": "ipython",
    "version": 3
   },
   "file_extension": ".py",
   "mimetype": "text/x-python",
   "name": "python",
   "nbconvert_exporter": "python",
   "pygments_lexer": "ipython3",
   "version": "3.9.13"
  }
 },
 "nbformat": 4,
 "nbformat_minor": 5
}
